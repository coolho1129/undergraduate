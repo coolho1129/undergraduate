{
 "cells": [
  {
   "attachments": {},
   "cell_type": "markdown",
   "metadata": {},
   "source": [
    "성명: 김찬호\n",
    "\n",
    "학과: IT대학 컴퓨터학부\n",
    "\n",
    "주차: 1주차\n",
    "\n",
    "학번: 2021114818"
   ]
  },
  {
   "cell_type": "code",
   "execution_count": 8,
   "metadata": {},
   "outputs": [],
   "source": [
    "x = 13"
   ]
  },
  {
   "cell_type": "code",
   "execution_count": 9,
   "metadata": {},
   "outputs": [],
   "source": [
    "y = 3"
   ]
  },
  {
   "cell_type": "code",
   "execution_count": 10,
   "metadata": {},
   "outputs": [
    {
     "name": "stdout",
     "output_type": "stream",
     "text": [
      "x + y = 16\n",
      "x - y = 10\n",
      "x * y = 39\n",
      "x / y = 4.333333333333333\n",
      "x ** y = 2197\n",
      "x // y = 4\n",
      "x % y = 1\n"
     ]
    }
   ],
   "source": [
    "print(\"x + y =\",x+y)\n",
    "print(\"x - y =\",x-y)\n",
    "print(\"x * y =\",x*y)\n",
    "print(\"x / y =\",x/y)\n",
    "\n",
    "print(\"x ** y =\",x**y)\n",
    "print(\"x // y =\",x//y)\n",
    "print(\"x % y =\",x%y)"
   ]
  }
 ],
 "metadata": {
  "kernelspec": {
   "display_name": "basic",
   "language": "python",
   "name": "python3"
  },
  "language_info": {
   "codemirror_mode": {
    "name": "ipython",
    "version": 3
   },
   "file_extension": ".py",
   "mimetype": "text/x-python",
   "name": "python",
   "nbconvert_exporter": "python",
   "pygments_lexer": "ipython3",
   "version": "3.10.8"
  },
  "vscode": {
   "interpreter": {
    "hash": "470b6d57b06f3edcb717ac1b3745ec440e773d3a058920776307f58654ae2e16"
   }
  }
 },
 "nbformat": 4,
 "nbformat_minor": 4
}
