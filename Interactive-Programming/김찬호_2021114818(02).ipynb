{
 "cells": [
  {
   "attachments": {},
   "cell_type": "markdown",
   "metadata": {},
   "source": [
    "성명: 김찬호\n",
    "\n",
    "학과: IT대학 컴퓨터학부\n",
    "\n",
    "주차: 2주차\n",
    "\n",
    "학번: 2021114818"
   ]
  },
  {
   "cell_type": "code",
   "execution_count": 4,
   "metadata": {},
   "outputs": [
    {
     "name": "stdout",
     "output_type": "stream",
     "text": [
      "[콤마구분 출력] 화씨 97.7℉ ==> 섭씨 36.5℃\n",
      "[서식적용 출력] 화씨 97.7℉ ==> 섭씨 36.5℃\n",
      "[포멧적용 출력] 화씨 97.7℉ ==> 섭씨 36.5℃\n",
      "[에프적용 출력] 화씨 97.7℉ ==> 섭씨 36.5℃\n"
     ]
    }
   ],
   "source": [
    "fahrenheit=float(input('Enter a fahrenheit value >>>'))\n",
    "celsius=(fahrenheit-32)*(5/9)\n",
    "\n",
    "print('[콤마구분 출력] 화씨 ',fahrenheit,\"℉ ==> 섭씨 \",celsius,'℃',sep='')\n",
    "print('[서식적용 출력] 화씨 %4.1f℉ ==> 섭씨 %4.1f℃'%(fahrenheit,celsius))\n",
    "print('[포멧적용 출력] 화씨 {0}℉ ==> 섭씨 {1}℃'.format(fahrenheit,celsius))\n",
    "print(f'[에프적용 출력] 화씨 {fahrenheit}℉ ==> 섭씨 {celsius}℃')\n"
   ]
  }
 ],
 "metadata": {
  "kernelspec": {
   "display_name": "basic",
   "language": "python",
   "name": "python3"
  },
  "language_info": {
   "codemirror_mode": {
    "name": "ipython",
    "version": 3
   },
   "file_extension": ".py",
   "mimetype": "text/x-python",
   "name": "python",
   "nbconvert_exporter": "python",
   "pygments_lexer": "ipython3",
   "version": "3.10.8"
  },
  "vscode": {
   "interpreter": {
    "hash": "470b6d57b06f3edcb717ac1b3745ec440e773d3a058920776307f58654ae2e16"
   }
  }
 },
 "nbformat": 4,
 "nbformat_minor": 4
}
