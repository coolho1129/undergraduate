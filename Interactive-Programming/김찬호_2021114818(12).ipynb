{
 "cells": [
  {
   "cell_type": "markdown",
   "metadata": {},
   "source": [
    "----\n",
    "#### 12주차 과제 : Python generator를 사용하여 range() 함수 만들기\n",
    "  - case 0는  yield 를 사용한 generator 함수입니다.\n",
    "  - case 0는 range(start, stop, step) 내장 함수를 구현한 예입니다.\n",
    "  - 이번 과제는 case 0와 동일한 결과를 만드는 과제로\n",
    "  - yield 대신 yield from 키워드를 사용하고 generator 표현식을 사용하여\n",
    "  - 한줄로 만들어 보는 것 입니다.\n",
    "  - case 1의 pass 코드를 실제 코드로 구현하여 완성하시면 됩니다.\n",
    "  - 오동작 또는 결과가 상이한 경우 0점 처리\n",
    "  - 한줄을 넘어가면 2점 감점\n",
    "  - yield from 키워드 사용 안하면 2점 감점\n",
    "  - generator 표현식 사용 안하면 2점 감점 입니다.\n",
    "----"
   ]
  },
  {
   "cell_type": "code",
   "execution_count": 1,
   "metadata": {},
   "outputs": [
    {
     "name": "stdout",
     "output_type": "stream",
     "text": [
      "{1: 'A'}\n",
      "{2: 'B'}\n",
      "{3: 'C'}\n",
      "{4: 'D'}\n",
      "{5: 'E'}\n",
      "{6: 'F'}\n",
      "{7: 'G'}\n",
      "{8: 'H'}\n",
      "{9: 'I'}\n",
      "{10: 'J'}\n",
      "{11: 'K'}\n",
      "{12: 'L'}\n",
      "{13: 'M'}\n",
      "{14: 'N'}\n",
      "{15: 'O'}\n",
      "{16: 'P'}\n",
      "{17: 'Q'}\n",
      "{18: 'R'}\n",
      "{19: 'S'}\n",
      "{20: 'T'}\n",
      "{21: 'U'}\n",
      "{22: 'V'}\n",
      "{23: 'W'}\n",
      "{24: 'X'}\n",
      "{25: 'Y'}\n",
      "{26: 'Z'}\n"
     ]
    }
   ],
   "source": [
    "# case 0: yield 를 사용한 generator 함수\n",
    "def range_generator(start, stop, step):\n",
    "    \n",
    "    while True:\n",
    "        r = start\n",
    "        if start < stop:\n",
    "            yield {r: chr(64+r)}\n",
    "            start += step\n",
    "        else:\n",
    "            break\n",
    "\n",
    "for item in range_generator(1, 27, 1):\n",
    "    print(item)      "
   ]
  },
  {
   "cell_type": "code",
   "execution_count": 2,
   "metadata": {},
   "outputs": [
    {
     "name": "stdout",
     "output_type": "stream",
     "text": [
      "{1: 'A'}\n",
      "{2: 'B'}\n",
      "{3: 'C'}\n",
      "{4: 'D'}\n",
      "{5: 'E'}\n",
      "{6: 'F'}\n",
      "{7: 'G'}\n",
      "{8: 'H'}\n",
      "{9: 'I'}\n",
      "{10: 'J'}\n",
      "{11: 'K'}\n",
      "{12: 'L'}\n",
      "{13: 'M'}\n",
      "{14: 'N'}\n",
      "{15: 'O'}\n",
      "{16: 'P'}\n",
      "{17: 'Q'}\n",
      "{18: 'R'}\n",
      "{19: 'S'}\n",
      "{20: 'T'}\n",
      "{21: 'U'}\n",
      "{22: 'V'}\n",
      "{23: 'W'}\n",
      "{24: 'X'}\n",
      "{25: 'Y'}\n",
      "{26: 'Z'}\n"
     ]
    }
   ],
   "source": [
    "# case 1: yield from 키워드와 generator 표현식을 사용한 generator 함수\n",
    "def range_generator(start, stop, step):\n",
    "    \n",
    "    yield from list({x:chr(x+64)} for x in range(stop)[start:stop:step])\n",
    "\n",
    "for item in range_generator(1, 27, 1):\n",
    "    print(item)  "
   ]
  }
 ],
 "metadata": {
  "kernelspec": {
   "display_name": "base",
   "language": "python",
   "name": "python3"
  },
  "language_info": {
   "codemirror_mode": {
    "name": "ipython",
    "version": 3
   },
   "file_extension": ".py",
   "mimetype": "text/x-python",
   "name": "python",
   "nbconvert_exporter": "python",
   "pygments_lexer": "ipython3",
   "version": "3.8.15"
  },
  "vscode": {
   "interpreter": {
    "hash": "a41502b3ed724866531937e34d828c955b1b4cd526e92260dbf7e8ff91cf888f"
   }
  }
 },
 "nbformat": 4,
 "nbformat_minor": 4
}
