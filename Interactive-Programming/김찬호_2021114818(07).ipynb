{
 "cells": [
  {
   "attachments": {
    "image.png": {
     "image/png": "[encoded data removed]"
    }
   },
   "cell_type": "markdown",
   "metadata": {},
   "source": [
    "----\n",
    "### 7주차 과제\n",
    "#### 텍스트 파일 읽고 출력하고 저장하기\n",
    "  - 문자열이 저장된 voa_report.txt 파일이 주어지는데 이것을 읽어 들이는 프로그램을 만드세요.\n",
    "  - 이 파일에서 영문자 l(엘)이 포함된 단어를 추출하여 리스트에 모두 담으세요. \n",
    "  - 단어를 출력할 때는 단어 정렬(sorting)하여 오름순서대로 출력해야 하며 ,(콤마)와 .(점)은 출력하지 않아야 합니다.\n",
    "  - 이 출력 결과와 동일하게 l_word.txt 파일에 저장하는 프로그램을 마치고 종료하세요.\n",
    "  - 아래와 같이 출력되고 저장(l_list.txt)되면 성공입니다.\n",
    "\n",
    "![image.png](attachment:image.png)\n",
    "\n",
    "  - [감점 기준]\n",
    "    1. 파일 읽기(read) 미충족 : -2\n",
    "    1. 단어 정렬(sort) 미충족 : -2\n",
    "    1. 출력 단어 콤마(,) 제거(strip) 미충족: -2\n",
    "    1. 출력 단어 점(.) 제거(strip) 미충족: -2\n",
    "    1. 출력 결과 파일 저장(write) 미충족 : -2"
   ]
  },
  {
   "cell_type": "code",
   "execution_count": 7,
   "metadata": {},
   "outputs": [
    {
     "name": "stdout",
     "output_type": "stream",
     "text": [
      "collapses\n",
      "cools\n",
      "explode\n",
      "fuel\n",
      "galaxies\n",
      "launches\n",
      "layer\n",
      "violently\n",
      "whole\n"
     ]
    }
   ],
   "source": [
    "with open(\"voa_report.txt\",'rt',encoding='utf-8') as fp:\n",
    "    words_list=fp.read().split()\n",
    "    \n",
    "l_list=[]\n",
    "for word in words_list:\n",
    "    if 'l' in word:\n",
    "        word = word.strip(',')\n",
    "        word = word.strip('.')\n",
    "        l_list.append(word)\n",
    "        \n",
    "l_list.sort()\n",
    "for l_word in l_list:\n",
    "    print(l_word)\n",
    "    \n",
    "with open(\"l_word.txt\",'wt',encoding='utf-8') as fp:\n",
    "   l_list= '\\n'.join([x for x in l_list])   \n",
    "   fp.write(l_list)\n",
    "    "
   ]
  }
 ],
 "metadata": {
  "kernelspec": {
   "display_name": "base",
   "language": "python",
   "name": "python3"
  },
  "language_info": {
   "codemirror_mode": {
    "name": "ipython",
    "version": 3
   },
   "file_extension": ".py",
   "mimetype": "text/x-python",
   "name": "python",
   "nbconvert_exporter": "python",
   "pygments_lexer": "ipython3",
   "version": "3.8.15"
  },
  "vscode": {
   "interpreter": {
    "hash": "a41502b3ed724866531937e34d828c955b1b4cd526e92260dbf7e8ff91cf888f"
   }
  }
 },
 "nbformat": 4,
 "nbformat_minor": 4
}
