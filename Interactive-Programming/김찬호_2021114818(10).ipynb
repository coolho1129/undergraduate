{
 "cells": [
  {
   "cell_type": "markdown",
   "metadata": {},
   "source": [
    "----\n",
    "#### 1번 \n",
    "#### 점수에 따라 학점 출력하기\n",
    "----"
   ]
  },
  {
   "cell_type": "code",
   "execution_count": 89,
   "metadata": {},
   "outputs": [
    {
     "name": "stdout",
     "output_type": "stream",
     "text": [
      "점수: 1050\n"
     ]
    },
    {
     "name": "stdout",
     "output_type": "stream",
     "text": [
      "입력 가능한 점수 범위는 0~100입니다\n"
     ]
    },
    {
     "name": "stdout",
     "output_type": "stream",
     "text": [
      "점수: 501\n"
     ]
    },
    {
     "name": "stdout",
     "output_type": "stream",
     "text": [
      "입력 가능한 점수 범위는 0~100입니다\n"
     ]
    }
   ],
   "source": [
    "#방법 1\n",
    "score=int(input('점수:'))\n",
    "if 90<=score<=100:\n",
    "    print(score,'A')\n",
    "elif 80<=score<=89:\n",
    "    print(score,'B')\n",
    "elif 70<=score<=79:\n",
    "    print(score,'C')\n",
    "elif 60<=score<=69:\n",
    "    print(score,'D')\n",
    "elif 0<=score<=59:\n",
    "    print(score,'F')\n",
    "else:\n",
    "    print('입력 가능한 점수 범위는 0~100입니다')\n",
    "\n",
    "#방법2\n",
    "deg={10:'A',9:'A',8:'B',7:'C',6:'D',5:'F',4:'F',3:'F',2:'F',1:'F',0:'F'}\n",
    "score=int(input('점수:'))\n",
    "try:\n",
    "    print(score,':',deg[score//10])\n",
    "except KeyError:\n",
    "    print('입력 가능한 점수 범위는 0~100입니다')\n"
   ]
  },
  {
   "cell_type": "markdown",
   "metadata": {},
   "source": [
    "----\n",
    "#### 2번 \n",
    "#### 입력된 수가 소수인지 판별하기\n",
    "----"
   ]
  },
  {
   "cell_type": "code",
   "execution_count": 62,
   "metadata": {},
   "outputs": [
    {
     "name": "stdout",
     "output_type": "stream",
     "text": [
      " 91\n"
     ]
    },
    {
     "name": "stdout",
     "output_type": "stream",
     "text": [
      "소수가 아니다\n"
     ]
    }
   ],
   "source": [
    "N=int(input())\n",
    "i=2\n",
    "while i<N:\n",
    "    if N%i==0:\n",
    "       break\n",
    "    i=i+1\n",
    "if i==N :\n",
    "    print('소수이다')\n",
    "else:\n",
    "    print('소수가 아니다')\n"
   ]
  },
  {
   "cell_type": "markdown",
   "metadata": {},
   "source": [
    "----\n",
    "#### 3번 \n",
    "#### ANAGARAM 판별하기\n",
    "----"
   ]
  },
  {
   "cell_type": "code",
   "execution_count": 5,
   "metadata": {},
   "outputs": [
    {
     "name": "stdout",
     "output_type": "stream",
     "text": [
      " DOG\n",
      " GOD\n"
     ]
    },
    {
     "name": "stdout",
     "output_type": "stream",
     "text": [
      "anagaram이다\n"
     ]
    }
   ],
   "source": [
    "a=input().upper()\n",
    "b=input().upper()\n",
    "a=list(a).sort()\n",
    "b=list(b).sort()\n",
    "\n",
    "if a==b:\n",
    "    print('anagaram이다')\n",
    "else:\n",
    "    print('anagaram이 아니다')\n"
   ]
  },
  {
   "cell_type": "markdown",
   "metadata": {},
   "source": [
    "----\n",
    "#### 4번 \n",
    "#### 입력받은 두 수의 대소 비교하기\n",
    "----"
   ]
  },
  {
   "cell_type": "code",
   "execution_count": 10,
   "metadata": {},
   "outputs": [
    {
     "name": "stdout",
     "output_type": "stream",
     "text": [
      "숫자1: 5\n",
      "숫자2: 3\n"
     ]
    },
    {
     "name": "stdout",
     "output_type": "stream",
     "text": [
      "큰수 = 5\n"
     ]
    }
   ],
   "source": [
    "def maxnum(m,n):\n",
    "    if m>n:\n",
    "        print('큰수 =',m)\n",
    "    if m<n:\n",
    "        print('큰수 =',n)\n",
    "    if m==n:\n",
    "        print(m,'=',n,'두 수는 같은 수 입니다.')\n",
    "\n",
    "m=int(input('숫자1:'))\n",
    "n=int(input('숫자2:'))\n",
    "\n",
    "maxnum(m,n)"
   ]
  },
  {
   "cell_type": "markdown",
   "metadata": {},
   "source": [
    "----\n",
    "#### 5번 \n",
    "#### 1부터 N까지의 자연수 합 구하기 \n",
    "----"
   ]
  },
  {
   "cell_type": "code",
   "execution_count": 90,
   "metadata": {},
   "outputs": [
    {
     "name": "stdout",
     "output_type": "stream",
     "text": [
      "N 값을 입력해주세요: 100\n"
     ]
    },
    {
     "name": "stdout",
     "output_type": "stream",
     "text": [
      "1부터 100 까지의 자연수 합은 5050 입니다\n"
     ]
    }
   ],
   "source": [
    "def S(n):\n",
    "    if n >=1:\n",
    "        s = (n * (n + 1)) / 2\n",
    "        return print('1부터', n, '까지의 자연수 합은', int(s), '입니다')\n",
    "    else:\n",
    "        return print('자연수를 입력해주세요')\n",
    "\n",
    "\n",
    "\n",
    "\n",
    "n = int(input('N 값을 입력해주세요:'))\n",
    "S(n)\n"
   ]
  },
  {
   "cell_type": "markdown",
   "metadata": {},
   "source": [
    "----\n",
    "#### 6번\n",
    "#### 사칙연산 계산기\n",
    "----"
   ]
  },
  {
   "cell_type": "code",
   "execution_count": 42,
   "metadata": {},
   "outputs": [
    {
     "name": "stdout",
     "output_type": "stream",
     "text": [
      "정수1: 1\n",
      "정수2: 1\n",
      "연산자를 입력하세요 *\n"
     ]
    },
    {
     "name": "stdout",
     "output_type": "stream",
     "text": [
      "1 * 1 = 1\n"
     ]
    }
   ],
   "source": [
    "def cal(num1,num2,act):\n",
    "    if act=='+':\n",
    "        return num1+num2\n",
    "    elif act=='-':\n",
    "        return num1-num2\n",
    "    elif act=='*':\n",
    "        return num1*num2\n",
    "    elif act=='/':\n",
    "        try:\n",
    "            return num1/num2\n",
    "        except ZeroDivisionError:\n",
    "            print('숫자를 0으로 나눌 수 없습니다')\n",
    "            \n",
    "    else:\n",
    "        return '잘못된 연산자 입니다'\n",
    "\n",
    "n1=int(input('정수1:'))\n",
    "n2=int(input('정수2:'))\n",
    "act=input('연산자를 입력하세요')\n",
    "print(n1,act,n2,'=',cal(n1,n2,act))\n",
    "\n"
   ]
  },
  {
   "cell_type": "markdown",
   "metadata": {},
   "source": [
    "----\n",
    "#### 7번 \n",
    "#### 회문 판별하기\n",
    "----"
   ]
  },
  {
   "cell_type": "code",
   "execution_count": 56,
   "metadata": {},
   "outputs": [
    {
     "name": "stdout",
     "output_type": "stream",
     "text": [
      "단어를 입력하세요 토마토\n"
     ]
    },
    {
     "name": "stdout",
     "output_type": "stream",
     "text": [
      "회문입니다\n"
     ]
    },
    {
     "name": "stdout",
     "output_type": "stream",
     "text": [
      "단어를 입력하세요 토마토\n"
     ]
    },
    {
     "name": "stdout",
     "output_type": "stream",
     "text": [
      "회문입니다\n"
     ]
    },
    {
     "name": "stdout",
     "output_type": "stream",
     "text": [
      "단어를 입력하세요 토마토\n"
     ]
    },
    {
     "name": "stdout",
     "output_type": "stream",
     "text": [
      "회문입니다\n"
     ]
    }
   ],
   "source": [
    "#방법1\n",
    "a=input('단어를 입력하세요').upper()\n",
    "a=a.replace(\" \",'')\n",
    "a=list(a)\n",
    "\n",
    "b=0\n",
    "\n",
    "for i in range(len(a)):\n",
    "    if a[i]!=a[(len(a)-1)-i]:\n",
    "        b = 1\n",
    "\n",
    "\n",
    "if b==0:\n",
    "    print('회문입니다')\n",
    "else:\n",
    "    print('회문이 아닙니다')\n",
    "    \n",
    "#방법 2\n",
    "a=input('단어를 입력하세요').upper()\n",
    "\n",
    "if list(a)==list(reversed(a)):\n",
    "    print('회문입니다')\n",
    "    \n",
    "else:\n",
    "    print('회문이 아닙니다')\n",
    "    \n",
    "    \n",
    "    \n",
    "#방법3\n",
    "a=input('단어를 입력하세요').upper()\n",
    "if a==a[::-1]:\n",
    "    print('회문입니다')\n",
    "    \n",
    "else:\n",
    "    print('회문이 아닙니다')\n",
    "\n",
    "\n",
    "\n",
    "\n",
    "\n",
    "\n",
    "\n",
    "\n"
   ]
  },
  {
   "cell_type": "markdown",
   "metadata": {},
   "source": [
    "----\n",
    "#### 8번 \n",
    "#### 직사각형 넓이 구하기\n",
    "----"
   ]
  },
  {
   "cell_type": "code",
   "execution_count": 67,
   "metadata": {},
   "outputs": [
    {
     "name": "stdout",
     "output_type": "stream",
     "text": [
      "x1좌표를 입력하세요 10\n",
      "y1좌표를 입력하세요 20\n",
      "x2좌표를 입력하세요 50\n",
      "y2좌표를 입력하세요 40\n"
     ]
    },
    {
     "name": "stdout",
     "output_type": "stream",
     "text": [
      "넓이: 800.0\n"
     ]
    }
   ],
   "source": [
    "class Rectangle:\n",
    "    def __init__(self, x1, y1, x2, y2):\n",
    "        self.x1 = x1\n",
    "        self.y1 = y1\n",
    "        self.x2 = x2\n",
    "        self.y2 = y2\n",
    " \n",
    "x1=float(input('x1좌표를 입력하세요'))\n",
    "y1=float(input('y1좌표를 입력하세요'))\n",
    "x2=float(input('x2좌표를 입력하세요'))\n",
    "y2=float(input('y2좌표를 입력하세요'))\n",
    "rect = Rectangle(x1,y1,x2,y2)\n",
    "\n",
    "\n",
    "width=abs(rect.x1-rect.x2)\n",
    "height=abs(rect.y1-rect.y2)\n",
    "area=width*height\n",
    "print('넓이:',area)"
   ]
  },
  {
   "cell_type": "markdown",
   "metadata": {},
   "source": [
    "----\n",
    "#### 9번 \n",
    "#### 삼각형 꼭짓점의 세 좌표가 주어졌을 때 삼각형 넓이 구하기\n",
    "   \n",
    "\n",
    "----"
   ]
  },
  {
   "cell_type": "code",
   "execution_count": 75,
   "metadata": {},
   "outputs": [
    {
     "name": "stdout",
     "output_type": "stream",
     "text": [
      " 5 5 2 3 6 9\n"
     ]
    },
    {
     "name": "stdout",
     "output_type": "stream",
     "text": [
      "삼각형의 넓이는 10.0 입니다\n"
     ]
    }
   ],
   "source": [
    "X=list(map(float,input().split()))\n",
    "\n",
    "P1=X[:2]\n",
    "P2=X[2:4]\n",
    "P3=X[4:]\n",
    "\n",
    "\n",
    "def triangle(p1,p2,p3):\n",
    "    S=abs((p2[0]-p1[0])*(p3[1]-p1[1])-(p2[1]-p1[1])*(p3[0]-p1[0]))\n",
    "    return S\n",
    "\n",
    "print('삼각형의 넓이는',triangle(P1,P2,P3),'입니다')\n",
    "\n"
   ]
  },
  {
   "cell_type": "markdown",
   "metadata": {},
   "source": [
    "----\n",
    "#### 10번 \n",
    "#### 리스트에서 최댓값 최소값 구하기   \n",
    "----"
   ]
  },
  {
   "cell_type": "code",
   "execution_count": 91,
   "metadata": {},
   "outputs": [
    {
     "name": "stdout",
     "output_type": "stream",
     "text": [
      "최솟값: 50\n",
      "최댓값: 98\n",
      "최솟값: 50\n",
      "최댓값: 98\n"
     ]
    }
   ],
   "source": [
    "#방법1\n",
    "A_list=[90,86,75,50,98,64]\n",
    "minimum=A_list[0]\n",
    "n=len(A_list)\n",
    "i=1\n",
    "while i<n:\n",
    "    if A_list[i] < minimum:\n",
    "        minimum=A_list[i]\n",
    "    i=i+1\n",
    "\n",
    "print('최솟값:',minimum)\n",
    "\n",
    "\n",
    "A_list=[90,86,75,50,98,64]\n",
    "maximum=A_list[0]\n",
    "n=len(A_list)\n",
    "i=1\n",
    "while i<n:\n",
    "    if A_list[i] > maximum:\n",
    "        maximum=A_list[i]\n",
    "    i=i+1\n",
    "\n",
    "print('최댓값:',maximum)\n",
    "\n",
    "#방법2\n",
    "A_list=[90,86,75,50,98,64]\n",
    "print('최솟값:',min(A_list))\n",
    "print('최댓값:',max(A_list))"
   ]
  }
 ],
 "metadata": {
  "kernelspec": {
   "display_name": "basic",
   "language": "python",
   "name": "python3"
  },
  "language_info": {
   "codemirror_mode": {
    "name": "ipython",
    "version": 3
   },
   "file_extension": ".py",
   "mimetype": "text/x-python",
   "name": "python",
   "nbconvert_exporter": "python",
   "pygments_lexer": "ipython3",
   "version": "3.10.8"
  },
  "vscode": {
   "interpreter": {
    "hash": "470b6d57b06f3edcb717ac1b3745ec440e773d3a058920776307f58654ae2e16"
   }
  }
 },
 "nbformat": 4,
 "nbformat_minor": 4
}
