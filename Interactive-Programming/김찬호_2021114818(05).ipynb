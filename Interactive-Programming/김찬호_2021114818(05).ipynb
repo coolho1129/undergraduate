{
 "cells": [
  {
   "cell_type": "markdown",
   "metadata": {},
   "source": [
    "성명: 김찬호\n",
    "\n",
    "학과: IT대학 컴퓨터학부\n",
    "\n",
    "주차: 5주차\n",
    "\n",
    "학번: 2021114818"
   ]
  },
  {
   "cell_type": "code",
   "execution_count": 6,
   "metadata": {},
   "outputs": [
    {
     "name": "stdout",
     "output_type": "stream",
     "text": [
      "[0, 1, 1, 2, 3, 5, 8, 13, 21, 34, 55, 89, 144, 233, 377, 610, 987, 1597]\n",
      "18\n"
     ]
    }
   ],
   "source": [
    "def fibonacci(n, a=0, b=1, fib_list=[]):\n",
    "    if a>n:\n",
    "        return fib_list\n",
    "    else:\n",
    "        fib_list.append(a)\n",
    "        a, b = b, a + b\n",
    "        return fibonacci(n, a, b, fib_list)\n",
    "\n",
    "result = fibonacci(2_000)   \n",
    "print(result)\n",
    "print(len(result))\n"
   ]
  }
 ],
 "metadata": {
  "kernelspec": {
   "display_name": "basic",
   "language": "python",
   "name": "python3"
  },
  "language_info": {
   "codemirror_mode": {
    "name": "ipython",
    "version": 3
   },
   "file_extension": ".py",
   "mimetype": "text/x-python",
   "name": "python",
   "nbconvert_exporter": "python",
   "pygments_lexer": "ipython3",
   "version": "3.10.8"
  },
  "vscode": {
   "interpreter": {
    "hash": "470b6d57b06f3edcb717ac1b3745ec440e773d3a058920776307f58654ae2e16"
   }
  }
 },
 "nbformat": 4,
 "nbformat_minor": 4
}
