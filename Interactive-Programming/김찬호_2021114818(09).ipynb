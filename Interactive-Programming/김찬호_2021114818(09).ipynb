{
 "cells": [
  {
   "cell_type": "markdown",
   "metadata": {},
   "source": [
    "----\n",
    "#### 9주차 과제(OOP)\n",
    "  * 아래 7주차 과제 수행 결과 코딩을 클래스를 이용하여 재코딩하기\n",
    "  * 클래스명, 생성자 초기화 변수, 인스턴스 함수 등은 주어짐 \n",
    "  * 여러분은 4개의 인스턴스 함수의 내용을 완성하여 오류없이\n",
    "  * 제시한 결과값과 동일하면 과제를 완성(10점)한 것입니다.\n",
    "  * pass 라고 적힌 라인을 여러분의 코딩으로 대체하여야 하며 라인수 초과는 허용\n",
    "  * assignment 1,2,3,4 미완성 또는 오동작시 각 2점 감점\n",
    "  * 프로그램 오류시 0점 처리\n",
    "```python\n",
    "manage_words = Manage_Words(\"voa_report.txt\", \"l\") # create an object\n",
    "manage_words.read_file()     # read voa_report.txt file\n",
    "manage_words.append_list()   # append the word into the list\n",
    "manage_words.sort_list()     # sort the list with an ascending order\n",
    "manage_words.save_list()     # save the file with find_char+word.txt\n",
    "#(실행결과)\n",
    "voa_report.txt was read.\n",
    "9 was appended in the list.\n",
    "collapses\n",
    "cools\n",
    "explode\n",
    "fuel\n",
    "galaxies\n",
    "launches\n",
    "layer\n",
    "violently\n",
    "whole\n",
    "The list was sorted.\n",
    "The list was saved in the l_word.txt.\n",
    "```\n",
    "----"
   ]
  },
  {
   "cell_type": "code",
   "execution_count": 33,
   "metadata": {},
   "outputs": [
    {
     "name": "stdout",
     "output_type": "stream",
     "text": [
      "voa_report.txt was read.\n",
      "9 was appended in the list.\n",
      "collapses\n",
      "cools\n",
      "explode\n",
      "fuel\n",
      "galaxies\n",
      "launches\n",
      "layer\n",
      "violently\n",
      "whole\n",
      "The list was sorted.\n",
      "The list was saved in the l_word.txt.\n"
     ]
    }
   ],
   "source": [
    "class Manage_Words:  # define a class\n",
    "    #################################################################\n",
    "    def __init__(self, file_name, find_char): # auto-call constructor\n",
    "        self.input_file  = file_name\n",
    "        self.find_char   = find_char\n",
    "        self.char_list   = []\n",
    "        self.output_file = find_char + \"_word.txt\"\n",
    "        \n",
    "    #################################################################        \n",
    "    def read_file(self):                     # assignment 1\n",
    "        with open(self.input_file, \"rt\", encoding=\"utf-8\") as fp:\n",
    "            self.words_list = fp.read().split()\n",
    "        print(f\"{self.input_file} was read.\")\n",
    "        \n",
    "    #################################################################  \n",
    "    def append_list(self):# assignment 2\n",
    "        for word in self.words_list:  \n",
    "            if self.find_char in word:\n",
    "                word = word.strip('.')\n",
    "                word = word.strip(',')\n",
    "                self.char_list.append(word)\n",
    "        print(f\"{len(self.char_list)} was appended in the list.\")\n",
    "        \n",
    "    #################################################################  \n",
    "    def sort_list(self):                     # assignment 3\n",
    "        self.char_list.sort()\n",
    "        for l_word in self.char_list:\n",
    "            print(l_word)\n",
    "        print(\"The list was sorted.\")\n",
    "        \n",
    "    ################################################################# \n",
    "    def save_list(self):                     # assignment 4\n",
    "        with open(\"l_word.txt\", 'wt', encoding=\"utf-8\") as fp:\n",
    "            self.char_list = \"\\n\".join([x for x in self.char_list])\n",
    "            fp.write(self.char_list)\n",
    "        print(f\"The list was saved in the {self.output_file}.\")\n",
    "\n",
    "##################################################################        \n",
    "manage_words = Manage_Words(\"voa_report.txt\", \"l\") # create an object\n",
    "manage_words.read_file()     # read voa_report.txt file\n",
    "manage_words.append_list()   # append the word into the list\n",
    "manage_words.sort_list()     # sort the list with an ascending order\n",
    "manage_words.save_list()     # save the file with find_char+word.txt"
   ]
  },
  {
   "cell_type": "code",
   "execution_count": 34,
   "metadata": {},
   "outputs": [],
   "source": [
    "# %load l_word.txt\n",
    "collapses\n",
    "cools\n",
    "explode\n",
    "fuel\n",
    "galaxies\n",
    "launches\n",
    "layer\n",
    "violently\n",
    "whole"
   ]
  }
 ],
 "metadata": {
  "kernelspec": {
   "display_name": "base",
   "language": "python",
   "name": "python3"
  },
  "language_info": {
   "codemirror_mode": {
    "name": "ipython",
    "version": 3
   },
   "file_extension": ".py",
   "mimetype": "text/x-python",
   "name": "python",
   "nbconvert_exporter": "python",
   "pygments_lexer": "ipython3",
   "version": "3.8.15"
  },
  "vscode": {
   "interpreter": {
    "hash": "a41502b3ed724866531937e34d828c955b1b4cd526e92260dbf7e8ff91cf888f"
   }
  }
 },
 "nbformat": 4,
 "nbformat_minor": 4
}
