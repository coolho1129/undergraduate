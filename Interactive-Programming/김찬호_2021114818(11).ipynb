{
 "cells": [
  {
   "cell_type": "markdown",
   "metadata": {},
   "source": [
    "----\n",
    "#### 11주차 과제: closure\n",
    "  * 클로져는 함수를 둘러싼 환경(지역변수, 코드 등)을 계속 유지하다가 함수를 호출할 때 다시 꺼내서 사용하는 함수를 말합니다.\n",
    "  * 따라서 클로져는 지역 변수와 코드를 묶어서 사용하고 싶을 때 사용합니다.\n",
    "  * 또한, 클로져에 속한 지역 변수는 바깥에서 직접 접근할 수 없으므로 데이터를 숨기고 싶을 때도 사용합니다.\n",
    "  * 카운트다운 함수 만들기\n",
    "    - 다음은 함수 c를 호출할 때마다 숫자가 1씩 줄어들게 만드는 코드입니다.\n",
    "    - 기본적으로 countdown 함수는 내부함수로 down 함수를 호출하는 클로져 입니다.\n",
    "    - case 1에서 case 6은 class로 객체를 정의한 것입니다.\n",
    "    - case 2에서 case 6은 데코레이터 @staticmethod, @classmethod를 적용한 예입니다.\n",
    "    - case 1에서 case 6은 기본적으로 동일한 동작을 하는 코드로 다양하게 표현할 수 있다는 것을 보여준 것 입니다.(반드시 숙지하면 코딩 기량 향상에 큰 도움이 됩니다.)\n",
    "    - 이 객체 버전을 함수 버전으로 변경하는 과제입니다.\n",
    "    - 함수 정의는\n",
    "      - 외부 함수는 countdown, 내부 함수는 down 입니다.\n",
    "      - case 0의 4줄의 pass 부문을 실제 동작하도록 코드를 완성하여 \n",
    "      - 다른 case 와 동일한 결과를 출력해야 합니다.\n",
    "      - 오동작시 0점 처리\n",
    "      - 정상동작을 하나 4줄을 넘어가면 추가 줄 당 2점 감점\n",
    "\n",
    "----"
   ]
  },
  {
   "cell_type": "code",
   "execution_count": 17,
   "metadata": {},
   "outputs": [
    {
     "name": "stdout",
     "output_type": "stream",
     "text": [
      "<class 'function'>\n",
      "20 19 18 17 16 15 14 13 12 11 10 9 8 7 6 5 4 3 2 1 "
     ]
    }
   ],
   "source": [
    "#######################################\n",
    "# 아래 4개의 pass 코드를 완성하기 \n",
    "# case 0 : using function closure\n",
    "\n",
    "def countdown(n):\n",
    "    count = n         \n",
    "    \n",
    "    def down():\n",
    "        nonlocal count\n",
    "        r=count\n",
    "        count=count-1 \n",
    "        return r\n",
    "    return down\n",
    "#######################################\n",
    "# 아래 코드는 변경하지 마십시오.   ######\n",
    "#######################################    \n",
    "n = 20\n",
    "c = countdown(n)\n",
    "print(type(c))\n",
    "for i in range(n):\n",
    "    print(c(), end=\" \")\n",
    "#######################################\n"
   ]
  },
  {
   "cell_type": "code",
   "execution_count": 1,
   "metadata": {},
   "outputs": [
    {
     "name": "stdout",
     "output_type": "stream",
     "text": [
      "<class '__main__.Countdown'>\n",
      "20 19 18 17 16 15 14 13 12 11 10 9 8 7 6 5 4 3 2 1 "
     ]
    }
   ],
   "source": [
    "#######################################\n",
    "# case 1 : closure using a instance var \n",
    "\n",
    "class Countdown:\n",
    "    def __init__(self, n):\n",
    "        self.count = n    \n",
    "\n",
    "    def __call__(self):\n",
    "        r = self.count    \n",
    "        self.count -= 1\n",
    "        return r\n",
    "#######################################\n",
    "# 아래 코드는 변경하지 마십시오.   ######\n",
    "#######################################    \n",
    "n = 20    \n",
    "c = Countdown(n)\n",
    "print(type(c))\n",
    "for i in range(n):\n",
    "    print(c(), end=\" \")\n",
    "#######################################"
   ]
  },
  {
   "cell_type": "code",
   "execution_count": 32,
   "metadata": {},
   "outputs": [
    {
     "name": "stdout",
     "output_type": "stream",
     "text": [
      "<class '__main__.Countdown'>\n",
      "20 19 18 17 16 15 14 13 12 11 10 9 8 7 6 5 4 3 2 1 "
     ]
    }
   ],
   "source": [
    "#######################################\n",
    "# case 2 : closure using a class var\n",
    "\n",
    "class Countdown:\n",
    "    def __init__(self, n):\n",
    "        Countdown.count = n   \n",
    "\n",
    "    def __call__(self):\n",
    "        r = Countdown.count   \n",
    "        Countdown.count -= 1\n",
    "        return r\n",
    "#######################################\n",
    "# 아래 코드는 변경하지 마십시오.   ######\n",
    "#######################################\n",
    "n = 20    \n",
    "c = Countdown(n)\n",
    "print(type(c))\n",
    "for i in range(n):\n",
    "    print(c(), end=\" \")\n",
    "#######################################"
   ]
  },
  {
   "cell_type": "code",
   "execution_count": 38,
   "metadata": {},
   "outputs": [
    {
     "name": "stdout",
     "output_type": "stream",
     "text": [
      "<class '__main__.Countdown'>\n",
      "20 19 18 17 16 15 14 13 12 11 10 9 8 7 6 5 4 3 2 1 "
     ]
    }
   ],
   "source": [
    "#######################################\n",
    "# case 3 : closure using @staticmethod\n",
    "\n",
    "class Countdown:\n",
    "    \n",
    "    @staticmethod    \n",
    "    def __init__(n):\n",
    "        Countdown.count = n   \n",
    "        \n",
    "    @staticmethod\n",
    "    def __call__():\n",
    "        r = Countdown.count   \n",
    "        Countdown.count -= 1\n",
    "        return r\n",
    "#######################################\n",
    "# 아래 코드는 변경하지 마십시오.   ######\n",
    "#######################################\n",
    "n = 20    \n",
    "c = Countdown(n)\n",
    "print(type(c))\n",
    "for i in range(n):\n",
    "    print(c(), end=\" \")\n",
    "#######################################"
   ]
  },
  {
   "cell_type": "code",
   "execution_count": 37,
   "metadata": {},
   "outputs": [
    {
     "name": "stdout",
     "output_type": "stream",
     "text": [
      "<class '__main__.Countdown'>\n",
      "20 19 18 17 16 15 14 13 12 11 10 9 8 7 6 5 4 3 2 1 "
     ]
    }
   ],
   "source": [
    "#######################################\n",
    "# case 4 : closure using @classmethod\n",
    "\n",
    "class Countdown:\n",
    "    \n",
    "    @classmethod\n",
    "    def __init__(cls, n):\n",
    "        cls.count = n        \n",
    "        \n",
    "    @classmethod\n",
    "    def __call__(cls):\n",
    "        r = cls.count        \n",
    "        cls.count -= 1\n",
    "        return r\n",
    "#######################################\n",
    "# 아래 코드는 변경하지 마십시오.   ######\n",
    "#######################################\n",
    "n = 20    \n",
    "c = Countdown(n)\n",
    "print(type(c))\n",
    "for i in range(n):\n",
    "    print(c(), end=\" \")\n",
    "#######################################"
   ]
  },
  {
   "cell_type": "code",
   "execution_count": 39,
   "metadata": {},
   "outputs": [
    {
     "name": "stdout",
     "output_type": "stream",
     "text": [
      "<class '__main__.Countdown'>\n",
      "20 19 18 17 16 15 14 13 12 11 10 9 8 7 6 5 4 3 2 1 "
     ]
    }
   ],
   "source": [
    "#######################################\n",
    "# case 5 : closure using @staticmethod\n",
    "\n",
    "class Countdown:\n",
    " \n",
    "    def __init__(self, n):\n",
    "        Countdown.count = n   \n",
    "        \n",
    "    @staticmethod\n",
    "    def __call__():\n",
    "        r = Countdown.count   \n",
    "        Countdown.count -= 1\n",
    "        return r\n",
    "#######################################\n",
    "# 아래 코드는 변경하지 마십시오.   ######\n",
    "#######################################\n",
    "n = 20    \n",
    "c = Countdown(n)\n",
    "print(type(c))\n",
    "for i in range(n):\n",
    "    print(c(), end=\" \")\n",
    "#######################################"
   ]
  },
  {
   "cell_type": "code",
   "execution_count": 40,
   "metadata": {},
   "outputs": [
    {
     "name": "stdout",
     "output_type": "stream",
     "text": [
      "<class '__main__.Countdown'>\n",
      "20 19 18 17 16 15 14 13 12 11 10 9 8 7 6 5 4 3 2 1 "
     ]
    }
   ],
   "source": [
    "#######################################\n",
    "# case 6 : closure using @classmethod\n",
    "\n",
    "class Countdown:\n",
    "\n",
    "    def __init__(self, n):\n",
    "        Countdown.count = n        \n",
    "        \n",
    "    @classmethod\n",
    "    def __call__(cls):\n",
    "        r = cls.count        \n",
    "        cls.count -= 1\n",
    "        return r\n",
    "#######################################\n",
    "# 아래 코드는 변경하지 마십시오.   ######\n",
    "#######################################\n",
    "n = 20    \n",
    "c = Countdown(n)\n",
    "print(type(c))\n",
    "for i in range(n):\n",
    "    print(c(), end=\" \")\n",
    "#######################################"
   ]
  }
 ],
 "metadata": {
  "kernelspec": {
   "display_name": "base",
   "language": "python",
   "name": "python3"
  },
  "language_info": {
   "codemirror_mode": {
    "name": "ipython",
    "version": 3
   },
   "file_extension": ".py",
   "mimetype": "text/x-python",
   "name": "python",
   "nbconvert_exporter": "python",
   "pygments_lexer": "ipython3",
   "version": "3.8.15"
  },
  "vscode": {
   "interpreter": {
    "hash": "a41502b3ed724866531937e34d828c955b1b4cd526e92260dbf7e8ff91cf888f"
   }
  }
 },
 "nbformat": 4,
 "nbformat_minor": 4
}
