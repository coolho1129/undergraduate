{
 "cells": [
  {
   "cell_type": "code",
   "execution_count": 3,
   "metadata": {},
   "outputs": [],
   "source": [
    "import gym\n",
    "import numpy as np"
   ]
  },
  {
   "cell_type": "markdown",
   "metadata": {},
   "source": [
    "## 9-3 Q-learing without epsilon-greedy"
   ]
  },
  {
   "cell_type": "code",
   "execution_count": 7,
   "metadata": {},
   "outputs": [],
   "source": [
    "rho=0.8 # 학습률\n",
    "lamda=0.99 # 할인율\n",
    "\n",
    "n_episode=2000\n",
    "length_episode=100\n",
    "np.set_printoptions(precision=2)"
   ]
  },
  {
   "cell_type": "code",
   "execution_count": 25,
   "metadata": {
    "scrolled": true
   },
   "outputs": [
    {
     "name": "stdout",
     "output_type": "stream",
     "text": [
      "[[0.   0.   0.95 0.  ]\n",
      " [0.   0.   0.96 0.  ]\n",
      " [0.   0.97 0.   0.  ]\n",
      " [0.   0.   0.   0.  ]\n",
      " [0.   0.   0.   0.  ]\n",
      " [0.   0.   0.   0.  ]\n",
      " [0.   0.98 0.   0.  ]\n",
      " [0.   0.   0.   0.  ]\n",
      " [0.   0.   0.   0.  ]\n",
      " [0.   0.   0.   0.  ]\n",
      " [0.   0.99 0.   0.  ]\n",
      " [0.   0.   0.   0.  ]\n",
      " [0.   0.   0.   0.  ]\n",
      " [0.   0.   0.   0.  ]\n",
      " [0.   0.   1.   0.  ]\n",
      " [0.   0.   0.   0.  ]]\n"
     ]
    }
   ],
   "source": [
    "# 환경 불러오기\n",
    "env=gym.make(\"FrozenLake-v1\",is_slippery=False) # 환경 생성\n",
    "Q=np.zeros([env.observation_space.n,env.action_space.n]) # Q 배열 초기화\n",
    "\n",
    "# 최적 행동 가치 함수 찾기\n",
    "for i in range(n_episode):\n",
    "    s=env.reset() # 새로운 에피소드 시작\n",
    "    s=s[0]\n",
    "    for j in range(length_episode):\n",
    "        argmaxs=np.argwhere(Q[s,:]==np.max(Q[s,:])).flatten().tolist()\n",
    "        a=np.random.choice(argmaxs)\n",
    "        s1,r,done,truncated,_=env.step(a)\n",
    "        Q[s,a]=Q[s,a]+rho*(r+lamda*np.max(Q[s1,:])-Q[s,a]) # 식 (9.18)\n",
    "        s=s1\n",
    "        if done or truncated:\n",
    "            break\n",
    "print(Q)            "
   ]
  },
  {
   "cell_type": "markdown",
   "metadata": {},
   "source": [
    "## 9-4 Q-learing with epsilon-greedy"
   ]
  },
  {
   "cell_type": "code",
   "execution_count": 13,
   "metadata": {},
   "outputs": [],
   "source": [
    "rho=0.90 # 학습률\n",
    "lamda=0.99 # 할인율\n",
    "eps=1.0 # 엡시론\n",
    "eps_decay=0.999 # 삭감 비율\n",
    "\n",
    "n_episode=3000\n",
    "length_episode=100\n",
    "np.set_printoptions(precision=2)"
   ]
  },
  {
   "cell_type": "code",
   "execution_count": 23,
   "metadata": {},
   "outputs": [
    {
     "name": "stdout",
     "output_type": "stream",
     "text": [
      "[[0.94 0.95 0.95 0.94]\n",
      " [0.94 0.   0.96 0.95]\n",
      " [0.95 0.97 0.95 0.96]\n",
      " [0.96 0.   0.   0.  ]\n",
      " [0.   0.96 0.   0.  ]\n",
      " [0.   0.   0.   0.  ]\n",
      " [0.   0.98 0.   0.96]\n",
      " [0.   0.   0.   0.  ]\n",
      " [0.   0.   0.97 0.  ]\n",
      " [0.   0.   0.98 0.  ]\n",
      " [0.97 0.99 0.   0.97]\n",
      " [0.   0.   0.   0.  ]\n",
      " [0.   0.   0.   0.  ]\n",
      " [0.   0.   0.98 0.  ]\n",
      " [0.79 0.99 1.   0.98]\n",
      " [0.   0.   0.   0.  ]]\n"
     ]
    }
   ],
   "source": [
    "env=gym.make(\"FrozenLake-v1\",is_slippery=False) # 환경 생성\n",
    "Q=np.zeros([env.observation_space.n,env.action_space.n]) # Q 배열 초기화\n",
    "\n",
    "# 최적 행동 가치 함수 찾기(탐사와 탐험의 균형 추구)\n",
    "for i in range(n_episode):\n",
    "    s=env.reset() # 새로운 에피소드 시작\n",
    "    s=s[0]\n",
    "    for j in range(length_episode):\n",
    "        r=np.random.random()\n",
    "        eps=max(0.01,eps*eps_decay) # 엡시론을 조금씩 줄여나감\n",
    "        if(r<eps): # eps 비율만큼 임의 선택\n",
    "            a=np.random.randint(0,env.action_space.n)\n",
    "        else:\n",
    "            argmaxs=np.argwhere(Q[s,:]==np.max(Q[s,:])).flatten().tolist()\n",
    "            a=np.random.choice(argmaxs)\n",
    "        # s1,r,done,_=env.step(a)\n",
    "        s1,r,done,truncated,_=env.step(a)\n",
    "        # print(s, s1, r, Q)\n",
    "        Q[s,a]=Q[s,a]+rho*(r+lamda*np.max(Q[s1,:])-Q[s,a])\n",
    "        s=s1\n",
    "        if done or truncated:\n",
    "            break\n",
    "print(Q)            "
   ]
  },
  {
   "cell_type": "code",
   "execution_count": null,
   "metadata": {},
   "outputs": [],
   "source": []
  }
 ],
 "metadata": {
  "kernelspec": {
   "display_name": "tf2.2",
   "language": "python",
   "name": "tf2.2"
  },
  "language_info": {
   "codemirror_mode": {
    "name": "ipython",
    "version": 3
   },
   "file_extension": ".py",
   "mimetype": "text/x-python",
   "name": "python",
   "nbconvert_exporter": "python",
   "pygments_lexer": "ipython3",
   "version": "3.8.5"
  }
 },
 "nbformat": 4,
 "nbformat_minor": 4
}
